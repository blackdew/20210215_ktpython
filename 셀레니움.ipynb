{
 "cells": [
  {
   "cell_type": "code",
   "execution_count": 1,
   "metadata": {},
   "outputs": [
    {
     "name": "stdout",
     "output_type": "stream",
     "text": [
      "hello world\n"
     ]
    }
   ],
   "source": [
    "print('hello world')"
   ]
  },
  {
   "cell_type": "code",
   "execution_count": 1,
   "metadata": {},
   "outputs": [
    {
     "name": "stdout",
     "output_type": "stream",
     "text": [
      "Requirement already satisfied: selenium in c:\\users\\black\\anaconda3\\lib\\site-packages (3.141.0)\n",
      "Requirement already satisfied: urllib3 in c:\\users\\black\\anaconda3\\lib\\site-packages (from selenium) (1.25.11)\n"
     ]
    }
   ],
   "source": [
    "!pip install selenium\n",
    "!pip install bs4"
   ]
  },
  {
   "cell_type": "code",
   "execution_count": 3,
   "metadata": {},
   "outputs": [],
   "source": [
    "import bs4\n",
    "import selenium"
   ]
  },
  {
   "cell_type": "code",
   "execution_count": 22,
   "metadata": {},
   "outputs": [],
   "source": [
    "from selenium import webdriver\n",
    "\n",
    "driver = webdriver.Chrome('C:/Users/black/work/20210215_ktpython/chromedriver.exe')"
   ]
  },
  {
   "cell_type": "code",
   "execution_count": 23,
   "metadata": {},
   "outputs": [],
   "source": [
    "url = 'https://search.daum.net/search?w=img&nil_search=btn&DA=NTB&enc=utf8&q=%EA%B3%A0%EC%96%91%EC%9D%B4'\n",
    "driver.get(url)"
   ]
  },
  {
   "cell_type": "code",
   "execution_count": 24,
   "metadata": {
    "scrolled": true
   },
   "outputs": [
    {
     "data": {
      "text/plain": [
       "[<img alt=\"나는 나는 고양이 엄마 캣맘\" class=\"thumb_img\" data-size=\"222x170\" data-src=\"https://search4.kakaocdn.net/argon/0x200_85_hr/DX9ORuVaKTG\" onerror=\"SF.errorImage(this)\" src=\"https://search4.kakaocdn.net/argon/0x200_85_hr/DX9ORuVaKTG\" style=\"width:225px;height:170px;margin-left:-1px\"/>,\n",
       " <img alt=\"고양이, 베르베르\" class=\"thumb_img\" data-size=\"224x170\" data-src=\"https://search4.kakaocdn.net/argon/0x200_85_hr/7mP8Rot5p8l\" onerror=\"SF.errorImage(this)\" src=\"https://search4.kakaocdn.net/argon/0x200_85_hr/7mP8Rot5p8l\" style=\"width:227px;height:170px;margin-left:-1px\"/>,\n",
       " <img alt=\"땅 속에 묻힌 9마리 새끼 고양이들에게\" class=\"thumb_img\" data-size=\"214x170\" data-src=\"https://search1.kakaocdn.net/argon/0x200_85_hr/7Qgjo3jVsBM\" onerror=\"SF.errorImage(this)\" src=\"https://search1.kakaocdn.net/argon/0x200_85_hr/7Qgjo3jVsBM\" style=\"width:217px;height:170px;margin-left:-1px\"/>,\n",
       " <img alt=\"고양이 정전기 원인 및 대처 방법 알아보기\" class=\"thumb_img\" data-size=\"252x170\" data-src=\"https://search2.kakaocdn.net/argon/0x200_85_hr/AUpMKlfaul3\" onerror=\"SF.errorImage(this)\" src=\"https://search2.kakaocdn.net/argon/0x200_85_hr/AUpMKlfaul3\" style=\"width:255px;height:170px;margin-left:-1px\"/>,\n",
       " <img alt=\"[스크랩] 고양이\" class=\"thumb_img\" data-size=\"199x170\" data-src=\"https://search1.kakaocdn.net/argon/0x200_85_hr/JYI6Unf1LxL\" onerror=\"SF.errorImage(this)\" src=\"https://search1.kakaocdn.net/argon/0x200_85_hr/JYI6Unf1LxL\" style=\"width:202px;height:170px;margin-left:-1px\"/>,\n",
       " <img alt=\"특별히 오래 사는 고양이 품종 8\" class=\"thumb_img\" data-size=\"262x176\" data-src=\"https://search1.kakaocdn.net/argon/0x200_85_hr/8COougoKRYp\" onerror=\"SF.errorImage(this)\" src=\"https://search1.kakaocdn.net/argon/0x200_85_hr/8COougoKRYp\" style=\"width:264px;height:176px;margin-left:-0px\"/>,\n",
       " <img alt=\"고양이\" class=\"thumb_img\" data-size=\"174x176\" data-src=\"https://search3.kakaocdn.net/argon/0x200_85_hr/JkVcJzRwrpV\" onerror=\"SF.errorImage(this)\" src=\"https://search3.kakaocdn.net/argon/0x200_85_hr/JkVcJzRwrpV\" style=\"width:176px;height:176px;margin-left:-0px\"/>,\n",
       " <img alt=\"피카츄 고양이 사진 가짜로 밝혀져\" class=\"thumb_img\" data-size=\"160x176\" data-src=\"https://search3.kakaocdn.net/argon/0x200_85_hr/1ZDzKS1NuQq\" onerror=\"SF.errorImage(this)\" src=\"https://search3.kakaocdn.net/argon/0x200_85_hr/1ZDzKS1NuQq\" style=\"width:163px;height:176px;margin-left:-1px\"/>,\n",
       " <img alt=\"나는 나는 고양이 엄마 캣맘\" class=\"thumb_img\" data-size=\"233x176\" data-src=\"https://search2.kakaocdn.net/argon/0x200_85_hr/JsKST1HGOgU\" onerror=\"SF.errorImage(this)\" src=\"https://search2.kakaocdn.net/argon/0x200_85_hr/JsKST1HGOgU\" style=\"width:235px;height:176px;margin-left:-0px\"/>,\n",
       " <img alt=\"[스크랩] 고양이\" class=\"thumb_img\" data-size=\"282x176\" data-src=\"https://search4.kakaocdn.net/argon/0x200_85_hr/8m2xrMXkSPf\" onerror=\"SF.errorImage(this)\" src=\"https://search4.kakaocdn.net/argon/0x200_85_hr/8m2xrMXkSPf\" style=\"width:283px;height:176px;margin-left:-0px\"/>,\n",
       " <img alt=\"고양이\" class=\"thumb_img\" data-size=\"130x176\" data-src=\"https://search4.kakaocdn.net/argon/0x200_85_hr/DgEaXxrwC7d\" onerror=\"SF.errorImage(this)\" src=\"https://search4.kakaocdn.net/argon/0x200_85_hr/DgEaXxrwC7d\" style=\"width:226px;height:176px;margin-left:-47px\"/>,\n",
       " <img alt=\"땅 속에 묻힌 9마리 새끼 고양이들에게\" class=\"thumb_img\" data-size=\"281x176\" data-src=\"https://search3.kakaocdn.net/argon/0x200_85_hr/42SJuvdBJTy\" onerror=\"SF.errorImage(this)\" src=\"https://search3.kakaocdn.net/argon/0x200_85_hr/42SJuvdBJTy\" style=\"width:282px;height:176px;margin-left:-0px\"/>,\n",
       " <img alt=\"[스크랩] 고양이\" class=\"thumb_img\" data-size=\"308x176\" data-src=\"https://search2.kakaocdn.net/argon/0x200_85_hr/BDdcdDKRBiq\" onerror=\"SF.errorImage(this)\" src=\"https://search2.kakaocdn.net/argon/0x200_85_hr/BDdcdDKRBiq\" style=\"width:309px;height:176px;margin-left:-0px\"/>,\n",
       " <img alt=\"예쁜 고양이\" class=\"thumb_img\" data-size=\"130x176\" data-src=\"https://search4.kakaocdn.net/argon/0x200_85_hr/4vo7lbyAg1I\" onerror=\"SF.errorImage(this)\" src=\"https://search4.kakaocdn.net/argon/0x200_85_hr/4vo7lbyAg1I\" style=\"width:180px;height:176px;margin-left:-24px\"/>,\n",
       " <img alt=\"고양이가 집사에게 짜증나는 순간 7가지\" class=\"thumb_img\" data-size=\"263x176\" data-src=\"https://search4.kakaocdn.net/argon/0x200_85_hr/RrAcOqMjyx\" onerror=\"SF.errorImage(this)\" src=\"https://search4.kakaocdn.net/argon/0x200_85_hr/RrAcOqMjyx\" style=\"width:264px;height:176px;margin-left:-0px\"/>,\n",
       " <img alt=\"고양이\" class=\"thumb_img\" data-size=\"218x164\" data-src=\"https://search2.kakaocdn.net/argon/0x200_85_hr/Bdujb5kbU0x\" onerror=\"SF.errorImage(this)\" src=\"https://search2.kakaocdn.net/argon/0x200_85_hr/Bdujb5kbU0x\" style=\"width:219px;height:164px;margin-left:-0px\"/>,\n",
       " <img alt=\"[스크랩] 고양이\" class=\"thumb_img\" data-size=\"218x164\" data-src=\"https://search4.kakaocdn.net/argon/0x200_85_hr/5Cb3NmF9CZt\" onerror=\"SF.errorImage(this)\" src=\"https://search4.kakaocdn.net/argon/0x200_85_hr/5Cb3NmF9CZt\" style=\"width:219px;height:164px;margin-left:-0px\"/>,\n",
       " <img alt=\"고양이\" class=\"thumb_img\" data-size=\"218x164\" data-src=\"https://search3.kakaocdn.net/argon/0x200_85_hr/CAR66J0nKfC\" onerror=\"SF.errorImage(this)\" src=\"https://search3.kakaocdn.net/argon/0x200_85_hr/CAR66J0nKfC\" style=\"width:219px;height:164px;margin-left:-0px\"/>,\n",
       " <img alt=\"고양이\" class=\"thumb_img\" data-size=\"221x164\" data-src=\"https://search1.kakaocdn.net/argon/0x200_85_hr/HB3osLP0nKp\" onerror=\"SF.errorImage(this)\" src=\"https://search1.kakaocdn.net/argon/0x200_85_hr/HB3osLP0nKp\" style=\"width:222px;height:164px;margin-left:-0px\"/>,\n",
       " <img alt=\"땅 속에 묻힌 9마리 새끼 고양이들에게\" class=\"thumb_img\" data-size=\"238x164\" data-src=\"https://search4.kakaocdn.net/argon/0x200_85_hr/FOIobXkOtPl\" onerror=\"SF.errorImage(this)\" src=\"https://search4.kakaocdn.net/argon/0x200_85_hr/FOIobXkOtPl\" style=\"width:239px;height:164px;margin-left:-0px\"/>,\n",
       " <img alt=\"[스크랩] 고양이\" class=\"thumb_img\" data-size=\"320x192\" data-src=\"https://search4.kakaocdn.net/argon/0x200_85_hr/IBXhVPprChe\" onerror=\"SF.errorImage(this)\" src=\"https://search4.kakaocdn.net/argon/0x200_85_hr/IBXhVPprChe\" style=\"width:322px;height:192px;margin-left:-0px\"/>,\n",
       " <img alt=\"어린고양이들&amp;amp;hellip;귀여운 새끼 고양이 사진\" class=\"thumb_img\" data-size=\"223x192\" data-src=\"https://search1.kakaocdn.net/argon/0x200_85_hr/FgIK4i4i5dT\" onerror=\"SF.errorImage(this)\" src=\"https://search1.kakaocdn.net/argon/0x200_85_hr/FgIK4i4i5dT\" style=\"width:226px;height:192px;margin-left:-1px\"/>,\n",
       " <img alt=\"고양이가 집사를 스토킹하는 이유 5가지?!\" class=\"thumb_img\" data-size=\"286x192\" data-src=\"https://search1.kakaocdn.net/argon/0x200_85_hr/3MMD2dh2rZ2\" onerror=\"SF.errorImage(this)\" src=\"https://search1.kakaocdn.net/argon/0x200_85_hr/3MMD2dh2rZ2\" style=\"width:288px;height:192px;margin-left:-0px\"/>,\n",
       " <img alt=\"고양이 외출, 안 돼요! 실내에서만 키워야 하는 이유\" class=\"thumb_img\" data-size=\"286x192\" data-src=\"https://search3.kakaocdn.net/argon/0x200_85_hr/AVqwHjzlzII\" onerror=\"SF.errorImage(this)\" src=\"https://search3.kakaocdn.net/argon/0x200_85_hr/AVqwHjzlzII\" style=\"width:288px;height:192px;margin-left:-0px\"/>,\n",
       " <img alt=\"고양이 습성[3편]\" class=\"thumb_img\" data-size=\"277x198\" data-src=\"https://search4.kakaocdn.net/argon/0x200_85_hr/IpwPvt1ubPL\" onerror=\"SF.errorImage(this)\" src=\"https://search4.kakaocdn.net/argon/0x200_85_hr/IpwPvt1ubPL\" style=\"width:279px;height:198px;margin-left:-0px\"/>,\n",
       " <img alt=\"고양이의 체형\" class=\"thumb_img\" data-size=\"268x198\" data-src=\"https://search3.kakaocdn.net/argon/0x200_85_hr/58TxSW4XqkB\" onerror=\"SF.errorImage(this)\" src=\"https://search3.kakaocdn.net/argon/0x200_85_hr/58TxSW4XqkB\" style=\"width:270px;height:198px;margin-left:-0px\"/>,\n",
       " <img alt=\"고양이\" class=\"thumb_img\" data-size=\"291x198\" data-src=\"https://search1.kakaocdn.net/argon/0x200_85_hr/715Va1MG1tE\" onerror=\"SF.errorImage(this)\" src=\"https://search1.kakaocdn.net/argon/0x200_85_hr/715Va1MG1tE\" style=\"width:293px;height:198px;margin-left:-0px\"/>,\n",
       " <img alt=\"고양이 사진 모음\" class=\"thumb_img\" data-size=\"146x198\" data-src=\"https://search4.kakaocdn.net/argon/0x200_85_hr/JvtXqcLatlc\" onerror=\"SF.errorImage(this)\" src=\"https://search4.kakaocdn.net/argon/0x200_85_hr/JvtXqcLatlc\" style=\"width:149px;height:198px;margin-left:-1px\"/>,\n",
       " <img alt=\"고양이\" class=\"thumb_img\" data-size=\"129x198\" data-src=\"https://search1.kakaocdn.net/argon/0x200_85_hr/3JVTrwJf6Rk\" onerror=\"SF.errorImage(this)\" src=\"https://search1.kakaocdn.net/argon/0x200_85_hr/3JVTrwJf6Rk\" style=\"width:132px;height:198px;margin-left:-1px\"/>,\n",
       " <img alt=\"[스크랩] 고양이\" class=\"thumb_img\" data-size=\"303x170\" data-src=\"https://search1.kakaocdn.net/argon/0x200_85_hr/1fWGjEMKaI6\" onerror=\"SF.errorImage(this)\" src=\"https://search1.kakaocdn.net/argon/0x200_85_hr/1fWGjEMKaI6\" style=\"width:303px;height:170px;margin-left:--1px\"/>,\n",
       " <img alt=\"고양이 사진 모음\" class=\"thumb_img\" data-size=\"125x170\" data-src=\"https://search4.kakaocdn.net/argon/0x200_85_hr/BAAnL2O36GI\" onerror=\"SF.errorImage(this)\" src=\"https://search4.kakaocdn.net/argon/0x200_85_hr/BAAnL2O36GI\" style=\"width:128px;height:170px;margin-left:-1px\"/>,\n",
       " <img alt=\"[스크랩] 고양이\" class=\"thumb_img\" data-size=\"108x170\" data-src=\"https://search2.kakaocdn.net/argon/0x200_85_hr/KM1UAOqHGXa\" onerror=\"SF.errorImage(this)\" src=\"https://search2.kakaocdn.net/argon/0x200_85_hr/KM1UAOqHGXa\" style=\"width:170px;height:170px;margin-left:-30px\"/>,\n",
       " <img alt=\"귀여운 고양이\" class=\"thumb_img\" data-size=\"118x170\" data-src=\"https://search1.kakaocdn.net/argon/0x200_85_hr/5USzwu7968L\" onerror=\"SF.errorImage(this)\" src=\"https://search1.kakaocdn.net/argon/0x200_85_hr/5USzwu7968L\" style=\"width:120px;height:170px;margin-left:-0px\"/>,\n",
       " <img alt=\"[스크랩] 고양이\" class=\"thumb_img\" data-size=\"227x170\" data-src=\"https://search1.kakaocdn.net/argon/0x200_85_hr/IFlJZSAqw78\" onerror=\"SF.errorImage(this)\" src=\"https://search1.kakaocdn.net/argon/0x200_85_hr/IFlJZSAqw78\" style=\"width:228px;height:170px;margin-left:-0px\"/>,\n",
       " <img alt=\"고양이\" class=\"thumb_img\" data-size=\"226x170\" data-src=\"https://search4.kakaocdn.net/argon/0x200_85_hr/LLX6XjT3ZSb\" onerror=\"SF.errorImage(this)\" src=\"https://search4.kakaocdn.net/argon/0x200_85_hr/LLX6XjT3ZSb\" style=\"width:227px;height:170px;margin-left:-0px\"/>,\n",
       " <img alt=\"[스크랩] 고양이\" class=\"thumb_img\" data-size=\"198x158\" data-src=\"https://search1.kakaocdn.net/argon/0x200_85_hr/LZTGR1KRYfd\" onerror=\"SF.errorImage(this)\" src=\"https://search1.kakaocdn.net/argon/0x200_85_hr/LZTGR1KRYfd\" style=\"width:201px;height:158px;margin-left:-1px\"/>,\n",
       " <img alt=\"고양이 습식 사료에 대해 알아봅시다\" class=\"thumb_img\" data-size=\"208x158\" data-src=\"https://search2.kakaocdn.net/argon/0x200_85_hr/3fQqX6UmWkH\" onerror=\"SF.errorImage(this)\" src=\"https://search2.kakaocdn.net/argon/0x200_85_hr/3fQqX6UmWkH\" style=\"width:211px;height:158px;margin-left:-1px\"/>,\n",
       " <img alt=\"우리 고양이^^*\" class=\"thumb_img\" data-size=\"235x158\" data-src=\"https://search2.kakaocdn.net/argon/0x200_85_hr/9QZPe2KLKh5\" onerror=\"SF.errorImage(this)\" src=\"https://search2.kakaocdn.net/argon/0x200_85_hr/9QZPe2KLKh5\" style=\"width:238px;height:158px;margin-left:-1px\"/>,\n",
       " <img alt=\"고양이와 함께 하는 삶\" class=\"thumb_img\" data-size=\"236x158\" data-src=\"https://search2.kakaocdn.net/argon/0x200_85_hr/Fl5tzYDaudJ\" onerror=\"SF.errorImage(this)\" src=\"https://search2.kakaocdn.net/argon/0x200_85_hr/Fl5tzYDaudJ\" style=\"width:239px;height:158px;margin-left:-1px\"/>,\n",
       " <img alt=\"고양이와 함께 하는 삶\" class=\"thumb_img\" data-size=\"234x158\" data-src=\"https://search4.kakaocdn.net/argon/0x200_85_hr/BjcjGeMwfKx\" onerror=\"SF.errorImage(this)\" src=\"https://search4.kakaocdn.net/argon/0x200_85_hr/BjcjGeMwfKx\" style=\"width:237px;height:158px;margin-left:-1px\"/>,\n",
       " <img alt=\"세수하는 고양이, 완전 귀여워 ㅎ\" class=\"thumb_img\" data-size=\"144x196\" data-src=\"https://search4.kakaocdn.net/argon/0x200_85_hr/BCYIvCin7F1\" onerror=\"SF.errorImage(this)\" src=\"https://search4.kakaocdn.net/argon/0x200_85_hr/BCYIvCin7F1\" style=\"width:147px;height:196px;margin-left:-1px\"/>,\n",
       " <img alt=\"고양이 데리고 장거리 외출, 고향 방문하기\" class=\"thumb_img\" data-size=\"257x196\" data-src=\"https://search2.kakaocdn.net/argon/0x200_85_hr/9rGYhVOsH3R\" onerror=\"SF.errorImage(this)\" src=\"https://search2.kakaocdn.net/argon/0x200_85_hr/9rGYhVOsH3R\" style=\"width:260px;height:196px;margin-left:-1px\"/>,\n",
       " <img alt=\"고양이 수명 및 기를때 주의사항\" class=\"thumb_img\" data-size=\"292x196\" data-src=\"https://search3.kakaocdn.net/argon/0x200_85_hr/B5v6Q0NUYG0\" onerror=\"SF.errorImage(this)\" src=\"https://search3.kakaocdn.net/argon/0x200_85_hr/B5v6Q0NUYG0\" style=\"width:295px;height:196px;margin-left:-1px\"/>,\n",
       " <img alt=\"[스크랩] 고양이\" class=\"thumb_img\" data-size=\"127x196\" data-src=\"https://search4.kakaocdn.net/argon/0x200_85_hr/8c7Ez3EojCh\" onerror=\"SF.errorImage(this)\" src=\"https://search4.kakaocdn.net/argon/0x200_85_hr/8c7Ez3EojCh\" style=\"width:130px;height:196px;margin-left:-1px\"/>,\n",
       " <img alt=\"고양이 키우는 사람을 집사라고 부르는 이유는?\" class=\"thumb_img\" data-size=\"291x196\" data-src=\"https://search1.kakaocdn.net/argon/0x200_85_hr/Jr9JTsvppom\" onerror=\"SF.errorImage(this)\" src=\"https://search1.kakaocdn.net/argon/0x200_85_hr/Jr9JTsvppom\" style=\"width:294px;height:196px;margin-left:-1px\"/>,\n",
       " <img alt=\"고양이 외출, 안 돼요! 실내에서만 키워야 하는 이유\" class=\"thumb_img\" data-size=\"260x174\" data-src=\"https://search1.kakaocdn.net/argon/0x200_85_hr/2jCldjFgtG8\" onerror=\"SF.errorImage(this)\" src=\"https://search1.kakaocdn.net/argon/0x200_85_hr/2jCldjFgtG8\" style=\"width:261px;height:174px;margin-left:-0px\"/>,\n",
       " <img alt=\"고양이 꾹꾹이, 언제 하는 걸까? 왜 하는 거지?\" class=\"thumb_img\" data-size=\"113x174\" data-src=\"https://search3.kakaocdn.net/argon/0x200_85_hr/A965vQ46VQs\" onerror=\"SF.errorImage(this)\" src=\"https://search3.kakaocdn.net/argon/0x200_85_hr/A965vQ46VQs\" style=\"width:116px;height:174px;margin-left:-1px\"/>,\n",
       " <img alt=\"자폐증 아이에게는 개가 아닌 고양이가 최고의 친구?\" class=\"thumb_img\" data-size=\"272x174\" data-src=\"https://search3.kakaocdn.net/argon/0x200_85_hr/AOgeeaPecha\" onerror=\"SF.errorImage(this)\" src=\"https://search3.kakaocdn.net/argon/0x200_85_hr/AOgeeaPecha\" style=\"width:273px;height:174px;margin-left:-0px\"/>,\n",
       " <img alt=\"먼치킨고양이 모든것 알아보기\" class=\"thumb_img\" data-size=\"250x174\" data-src=\"https://search4.kakaocdn.net/argon/0x200_85_hr/9ubtIe5OHpY\" onerror=\"SF.errorImage(this)\" src=\"https://search4.kakaocdn.net/argon/0x200_85_hr/9ubtIe5OHpY\" style=\"width:251px;height:174px;margin-left:-0px\"/>,\n",
       " <img alt=\"고양이 꿈해몽 고양이 꿈 풀이\" class=\"thumb_img\" data-size=\"217x174\" data-src=\"https://search1.kakaocdn.net/argon/0x200_85_hr/Bq4eLoGbtkA\" onerror=\"SF.errorImage(this)\" src=\"https://search1.kakaocdn.net/argon/0x200_85_hr/Bq4eLoGbtkA\" style=\"width:218px;height:174px;margin-left:-0px\"/>,\n",
       " <img alt=\"고양이\" class=\"thumb_img\" data-size=\"122x166\" data-src=\"https://search4.kakaocdn.net/argon/0x200_85_hr/3mShTUh5vTB\" onerror=\"SF.errorImage(this)\" src=\"https://search4.kakaocdn.net/argon/0x200_85_hr/3mShTUh5vTB\" style=\"width:244px;height:166px;margin-left:-60px\"/>,\n",
       " <img alt=\"고양이 키우는 사람을 집사라고 부르는 이유는?\" class=\"thumb_img\" data-size=\"247x166\" data-src=\"https://search2.kakaocdn.net/argon/0x200_85_hr/AuZ5W2sAzMT\" onerror=\"SF.errorImage(this)\" src=\"https://search2.kakaocdn.net/argon/0x200_85_hr/AuZ5W2sAzMT\" style=\"width:249px;height:166px;margin-left:-0px\"/>,\n",
       " <img alt=\"고양이, 시간 인지 능력 있을까?\" class=\"thumb_img\" data-size=\"247x166\" data-src=\"https://search2.kakaocdn.net/argon/0x200_85_hr/6qpHQC7e7qj\" onerror=\"SF.errorImage(this)\" src=\"https://search2.kakaocdn.net/argon/0x200_85_hr/6qpHQC7e7qj\" style=\"width:249px;height:166px;margin-left:-0px\"/>,\n",
       " <img alt=\"평소보다 많이 우는 고양이, 집사에게 보내는 응급 신호?\" class=\"thumb_img\" data-size=\"247x166\" data-src=\"https://search4.kakaocdn.net/argon/0x200_85_hr/1EEuyVXfFJz\" onerror=\"SF.errorImage(this)\" src=\"https://search4.kakaocdn.net/argon/0x200_85_hr/1EEuyVXfFJz\" style=\"width:249px;height:166px;margin-left:-0px\"/>,\n",
       " <img alt=\"고양이 깜짝 놀라게 하는 집사의 행동 4가지\" class=\"thumb_img\" data-size=\"247x166\" data-src=\"https://search3.kakaocdn.net/argon/0x200_85_hr/Fu2ALuaWAik\" onerror=\"SF.errorImage(this)\" src=\"https://search3.kakaocdn.net/argon/0x200_85_hr/Fu2ALuaWAik\" style=\"width:249px;height:166px;margin-left:-0px\"/>,\n",
       " <img alt=\"동물약국--고양이의 치아 건강 관리\" class=\"thumb_img\" data-size=\"254x192\" data-src=\"https://search1.kakaocdn.net/argon/0x200_85_hr/9kuhpi0jYql\" onerror=\"SF.errorImage(this)\" src=\"https://search1.kakaocdn.net/argon/0x200_85_hr/9kuhpi0jYql\" style=\"width:255px;height:192px;margin-left:-0px\"/>,\n",
       " <img alt=\"고양이 기죽게 만드는 집사 행동?\" class=\"thumb_img\" data-size=\"286x192\" data-src=\"https://search4.kakaocdn.net/argon/0x200_85_hr/4ulN5oNVm2p\" onerror=\"SF.errorImage(this)\" src=\"https://search4.kakaocdn.net/argon/0x200_85_hr/4ulN5oNVm2p\" style=\"width:287px;height:192px;margin-left:-0px\"/>,\n",
       " <img alt=\"고양이끼리 의사 소통, 대화하는 방법은?\" class=\"thumb_img\" data-size=\"287x192\" data-src=\"https://search1.kakaocdn.net/argon/0x200_85_hr/FiOG9626SWa\" onerror=\"SF.errorImage(this)\" src=\"https://search1.kakaocdn.net/argon/0x200_85_hr/FiOG9626SWa\" style=\"width:288px;height:192px;margin-left:-0px\"/>,\n",
       " <img alt=\"고양이 이물질 섭취 시 주의사항 4가지\" class=\"thumb_img\" data-size=\"287x192\" data-src=\"https://search2.kakaocdn.net/argon/0x200_85_hr/DBGDlkumTgF\" onerror=\"SF.errorImage(this)\" src=\"https://search2.kakaocdn.net/argon/0x200_85_hr/DBGDlkumTgF\" style=\"width:288px;height:192px;margin-left:-0px\"/>,\n",
       " <img alt=\"고양이 경련, 원인과 대처법 알아보기\" class=\"thumb_img\" data-size=\"252x186\" data-src=\"https://search4.kakaocdn.net/argon/0x200_85_hr/D7AnwnN1VWn\" onerror=\"SF.errorImage(this)\" src=\"https://search4.kakaocdn.net/argon/0x200_85_hr/D7AnwnN1VWn\" style=\"width:253px;height:186px;margin-left:-0px\"/>,\n",
       " <img alt=\"고양이 맡기기 전 확인할 체크 리스트 – 비마이펫 라이프\" class=\"thumb_img\" data-size=\"278x186\" data-src=\"https://search2.kakaocdn.net/argon/0x200_85_hr/6q1w3bVmxR\" onerror=\"SF.errorImage(this)\" src=\"https://search2.kakaocdn.net/argon/0x200_85_hr/6q1w3bVmxR\" style=\"width:279px;height:186px;margin-left:-0px\"/>,\n",
       " <img alt=\"고양이 깜짝 놀라게 하는 집사의 행동 4가지\" class=\"thumb_img\" data-size=\"278x186\" data-src=\"https://search4.kakaocdn.net/argon/0x200_85_hr/2eShweUsJAB\" onerror=\"SF.errorImage(this)\" src=\"https://search4.kakaocdn.net/argon/0x200_85_hr/2eShweUsJAB\" style=\"width:279px;height:186px;margin-left:-0px\"/>,\n",
       " <img alt=\"[스크랩] 고양이\" class=\"thumb_img\" data-size=\"184x186\" data-src=\"https://search1.kakaocdn.net/argon/0x200_85_hr/6EMMafTCsSs\" onerror=\"SF.errorImage(this)\" src=\"https://search1.kakaocdn.net/argon/0x200_85_hr/6EMMafTCsSs\" style=\"width:186px;height:186px;margin-left:-0px\"/>,\n",
       " <img alt=\"고양이\" class=\"thumb_img\" data-size=\"119x186\" data-src=\"https://search1.kakaocdn.net/argon/0x200_85_hr/L2OvgtWlr7t\" onerror=\"SF.errorImage(this)\" src=\"https://search1.kakaocdn.net/argon/0x200_85_hr/L2OvgtWlr7t\" style=\"width:186px;height:186px;margin-left:-33px\"/>,\n",
       " <img alt=\"헬창 고양이\" class=\"thumb_img\" data-size=\"92x158\" data-src=\"https://search4.kakaocdn.net/argon/0x200_85_hr/8epWX9GPAjE\" onerror=\"SF.errorImage(this)\" src=\"https://search4.kakaocdn.net/argon/0x200_85_hr/8epWX9GPAjE\" style=\"width:95px;height:158px;margin-left:-1px\"/>,\n",
       " <img alt=\"고양이 나이 계산 방법\" class=\"thumb_img\" data-size=\"209x158\" data-src=\"https://search1.kakaocdn.net/argon/0x200_85_hr/BpxlinKwwUK\" onerror=\"SF.errorImage(this)\" src=\"https://search1.kakaocdn.net/argon/0x200_85_hr/BpxlinKwwUK\" style=\"width:211px;height:158px;margin-left:-0px\"/>,\n",
       " <img alt=\"강아지 고양이 비듬 없애는 법 – 비마이펫 라이프\" class=\"thumb_img\" data-size=\"103x158\" data-src=\"https://search2.kakaocdn.net/argon/0x200_85_hr/3T4cNhPBNh7\" onerror=\"SF.errorImage(this)\" src=\"https://search2.kakaocdn.net/argon/0x200_85_hr/3T4cNhPBNh7\" style=\"width:106px;height:158px;margin-left:-1px\"/>,\n",
       " <img alt=\"특별히 오래 사는 고양이 품종 8\" class=\"thumb_img\" data-size=\"235x158\" data-src=\"https://search3.kakaocdn.net/argon/0x200_85_hr/FewZC3xUQNL\" onerror=\"SF.errorImage(this)\" src=\"https://search3.kakaocdn.net/argon/0x200_85_hr/FewZC3xUQNL\" style=\"width:237px;height:158px;margin-left:-0px\"/>,\n",
       " <img alt=\"고양이 국내 첫 코로나 확진..개도 의심사례 보고(종합)\" class=\"thumb_img\" data-size=\"235x158\" data-src=\"https://search4.kakaocdn.net/argon/0x200_85_hr/B8azaq9ahk9\" onerror=\"SF.errorImage(this)\" src=\"https://search4.kakaocdn.net/argon/0x200_85_hr/B8azaq9ahk9\" style=\"width:237px;height:158px;margin-left:-0px\"/>,\n",
       " <img alt=\"고양이 쓰다듬기, 제대로 하면 안 물려요! – 비마이펫 라이프\" class=\"thumb_img\" data-size=\"235x158\" data-src=\"https://search2.kakaocdn.net/argon/0x200_85_hr/4SGotusq1ZV\" onerror=\"SF.errorImage(this)\" src=\"https://search2.kakaocdn.net/argon/0x200_85_hr/4SGotusq1ZV\" style=\"width:237px;height:158px;margin-left:-0px\"/>,\n",
       " <img alt=\"우리집 고양이의 혈액형은?\" class=\"thumb_img\" data-size=\"286x192\" data-src=\"https://search2.kakaocdn.net/argon/0x200_85_hr/Bw7ylB0sSQ7\" onerror=\"SF.errorImage(this)\" src=\"https://search2.kakaocdn.net/argon/0x200_85_hr/Bw7ylB0sSQ7\" style=\"width:288px;height:192px;margin-left:-0px\"/>,\n",
       " <img alt=\"고양이\" class=\"thumb_img\" data-size=\"239x192\" data-src=\"https://search2.kakaocdn.net/argon/0x200_85_hr/Byd8d20sj7z\" onerror=\"SF.errorImage(this)\" src=\"https://search2.kakaocdn.net/argon/0x200_85_hr/Byd8d20sj7z\" style=\"width:242px;height:192px;margin-left:-1px\"/>,\n",
       " <img alt=\"고양이 더위 먹었을 때 – 증상과 대처법\" class=\"thumb_img\" data-size=\"286x192\" data-src=\"https://search4.kakaocdn.net/argon/0x200_85_hr/IoiDJeS8csP\" onerror=\"SF.errorImage(this)\" src=\"https://search4.kakaocdn.net/argon/0x200_85_hr/IoiDJeS8csP\" style=\"width:288px;height:192px;margin-left:-0px\"/>,\n",
       " <img alt=\"먼치킨 고양이 특징/성격/가격\" class=\"thumb_img\" data-size=\"304x192\" data-src=\"https://search2.kakaocdn.net/argon/0x200_85_hr/EScA4VrilzD\" onerror=\"SF.errorImage(this)\" src=\"https://search2.kakaocdn.net/argon/0x200_85_hr/EScA4VrilzD\" style=\"width:306px;height:192px;margin-left:-0px\"/>,\n",
       " <img alt=\"고양이 치매 의심\" class=\"thumb_img\" data-size=\"279x188\" data-src=\"https://search2.kakaocdn.net/argon/0x200_85_hr/47qHRwEyGzA\" onerror=\"SF.errorImage(this)\" src=\"https://search2.kakaocdn.net/argon/0x200_85_hr/47qHRwEyGzA\" style=\"width:282px;height:188px;margin-left:-1px\"/>,\n",
       " <img alt=\"고양이 양치 언제부터 시작해야 할까? 양치질 방법과 Tip! – 비마이펫 라이프\" class=\"thumb_img\" data-size=\"279x188\" data-src=\"https://search1.kakaocdn.net/argon/0x200_85_hr/JXeG0To1njA\" onerror=\"SF.errorImage(this)\" src=\"https://search1.kakaocdn.net/argon/0x200_85_hr/JXeG0To1njA\" style=\"width:282px;height:188px;margin-left:-1px\"/>,\n",
       " <img alt=\"사진과 함께 보는 고양이 종류\" class=\"thumb_img\" data-size=\"279x188\" data-src=\"https://search4.kakaocdn.net/argon/0x200_85_hr/2oo7HV0Age9\" onerror=\"SF.errorImage(this)\" src=\"https://search4.kakaocdn.net/argon/0x200_85_hr/2oo7HV0Age9\" style=\"width:283px;height:188px;margin-left:-1px\"/>,\n",
       " <img alt=\"고양이 비만 측정 기준, 우리 고양이는 적정 체중일까?\" class=\"thumb_img\" data-size=\"279x188\" data-src=\"https://search2.kakaocdn.net/argon/0x200_85_hr/Kx72GPgxAyp\" onerror=\"SF.errorImage(this)\" src=\"https://search2.kakaocdn.net/argon/0x200_85_hr/Kx72GPgxAyp\" style=\"width:282px;height:188px;margin-left:-1px\"/>,\n",
       " <img alt=\"고양이 치매 의심\" class=\"thumb_img\" data-size=\"301x200\" data-src=\"https://search1.kakaocdn.net/argon/0x200_85_hr/1RrpaxiW0t3\" onerror=\"SF.errorImage(this)\" src=\"https://search1.kakaocdn.net/argon/0x200_85_hr/1RrpaxiW0t3\" style=\"width:301px;height:200px\"/>,\n",
       " <img alt=\"고양이 쓰다듬기, 제대로 하면 안 물려요! – 비마이펫 라이프\" class=\"thumb_img\" data-size=\"300x200\" data-src=\"https://search4.kakaocdn.net/argon/0x200_85_hr/EsJ37UoCsHZ\" onerror=\"SF.errorImage(this)\" src=\"https://search4.kakaocdn.net/argon/0x200_85_hr/EsJ37UoCsHZ\" style=\"width:300px;height:200px\"/>]"
      ]
     },
     "execution_count": 24,
     "metadata": {},
     "output_type": "execute_result"
    }
   ],
   "source": [
    "import bs4\n",
    "\n",
    "soup = bs4.BeautifulSoup(driver.page_source, 'html.parser')\n",
    "tags = soup.select('.thumb_img')\n",
    "tags"
   ]
  },
  {
   "cell_type": "code",
   "execution_count": 21,
   "metadata": {},
   "outputs": [],
   "source": [
    "import requests\n",
    "\n",
    "for i, tag in enumerate(tags):\n",
    "    res = requests.get(tag['data-src'])\n",
    "    with open(f'고양이{i}.jpg', 'wb') as f:\n",
    "        f.write(res.content)\n"
   ]
  },
  {
   "cell_type": "code",
   "execution_count": 26,
   "metadata": {},
   "outputs": [
    {
     "data": {
      "text/plain": [
       "'완료'"
      ]
     },
     "execution_count": 26,
     "metadata": {},
     "output_type": "execute_result"
    }
   ],
   "source": [
    "import os\n",
    "import bs4\n",
    "import requests\n",
    "\n",
    "# word에 해당하는 폴더를 새성후 폴더에 이미지 다운로드 하는 함수\n",
    "def download_images(word):\n",
    "    # 'word' 폴더가 없으면 생성\n",
    "    if not os.path.isdir(word):\n",
    "        os.mkdir(word)\n",
    "\n",
    "    # driver get 이미지 검색\n",
    "    url = f'https://search.daum.net/search?w=img&nil_search=btn&DA=NTB&enc=utf8&q={word}'\n",
    "    driver.get(url)\n",
    "\n",
    "    # 이미지 태그 select\n",
    "    soup = bs4.BeautifulSoup(driver.page_source, 'html.parser')\n",
    "    tags = soup.select('.thumb_img')\n",
    "    \n",
    "    # 태그 내에서 이미지 url 추출\n",
    "    for i, tag in enumerate(tags):\n",
    "        res = requests.get(tag['data-src'])\n",
    "        filename = tag['data-src'].split('/')[-1]\n",
    "        with open(f'{word}/{filename}.jpg', 'wb') as f:\n",
    "            f.write(res.content)\n",
    "\n",
    "    return \"완료\"\n",
    "\n",
    "# download_images('고양이')\n",
    "download_images('아이유')"
   ]
  },
  {
   "cell_type": "code",
   "execution_count": 28,
   "metadata": {},
   "outputs": [],
   "source": [
    "f = open('a.txt', 'w', encoding='utf8')\n",
    "f.write('안녕하세요')\n",
    "f.close()"
   ]
  },
  {
   "cell_type": "code",
   "execution_count": 29,
   "metadata": {},
   "outputs": [
    {
     "name": "stdout",
     "output_type": "stream",
     "text": [
      "안녕하세요\n"
     ]
    }
   ],
   "source": [
    "f = open('a.txt', 'r', encoding='utf8')\n",
    "s = f.read()\n",
    "f.close()\n",
    "\n",
    "print(s)"
   ]
  },
  {
   "cell_type": "code",
   "execution_count": 32,
   "metadata": {},
   "outputs": [],
   "source": [
    "from selenium import webdriver\n",
    "\n",
    "driver = webdriver.Chrome('C:/Users/black/work/20210215_ktpython/chromedriver.exe')\n",
    "url = 'https://search.daum.net/search?w=img&nil_search=btn&DA=NTB&enc=utf8&q=%EA%B3%A0%EC%96%91%EC%9D%B4'\n",
    "driver.get(url)"
   ]
  },
  {
   "cell_type": "code",
   "execution_count": null,
   "metadata": {},
   "outputs": [],
   "source": [
    "driver.find_element_by_css_selector('.tf_keyword').clear()\n",
    "driver.find_element_by_css_selector('.tf_keyword').send_keys('싱어게인')\n",
    "driver.find_element_by_css_selector('#daumBtnSearch').click()"
   ]
  }
 ],
 "metadata": {
  "kernelspec": {
   "display_name": "Python 3",
   "language": "python",
   "name": "python3"
  },
  "language_info": {
   "codemirror_mode": {
    "name": "ipython",
    "version": 3
   },
   "file_extension": ".py",
   "mimetype": "text/x-python",
   "name": "python",
   "nbconvert_exporter": "python",
   "pygments_lexer": "ipython3",
   "version": "3.8.5"
  }
 },
 "nbformat": 4,
 "nbformat_minor": 4
}
